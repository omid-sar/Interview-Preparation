{
 "cells": [
  {
   "cell_type": "code",
   "execution_count": 4,
   "metadata": {},
   "outputs": [],
   "source": [
    "company_structure = {\n",
    "    'Company': {\n",
    "        'HR': {\n",
    "            'Team1': {\n",
    "                'Alice': {'role': 'Manager', 'age': 35, 'salary': 75000},\n",
    "                'Bob': {'role': 'Recruiter', 'age': 28, 'salary': 50000}\n",
    "            },\n",
    "            'Team2': {\n",
    "                'Charlie': {'role': 'HR Specialist', 'age': 32, 'salary': 60000}\n",
    "            }\n",
    "        },\n",
    "        'IT': {\n",
    "            'Development': {\n",
    "                'Team1': {\n",
    "                    'Dave': {'role': 'Senior Developer', 'age': 40, 'salary': 90000},\n",
    "                    'Eve': {'role': 'Junior Developer', 'age': 25, 'salary': 60000}\n",
    "                },\n",
    "                'Team2': {\n",
    "                    'Frank': {'role': 'DevOps Engineer', 'age': 30, 'salary': 85000}\n",
    "                }\n",
    "            },\n",
    "            'Support': {\n",
    "                'Alice': {'role': 'Support Specialist', 'age': 27, 'salary': 55000},\n",
    "                'Greg': {'role': 'Support Lead', 'age': 38, 'salary': 70000}\n",
    "            }\n",
    "        }\n",
    "    }\n",
    "}"
   ]
  },
  {
   "cell_type": "code",
   "execution_count": 20,
   "metadata": {},
   "outputs": [
    {
     "data": {
      "text/plain": [
       "{'Company': {'IT': {'Development': {'Team1': {'Eve': {'role': 'Junior Developer',\n",
       "      'age': 25,\n",
       "      'salary': 60000}}}}}}"
      ]
     },
     "execution_count": 20,
     "metadata": {},
     "output_type": "execute_result"
    }
   ],
   "source": [
    "# Nested dictonary with key and value at the deepest or the top level\n",
    "# A function to filter the nested dictionary to only include employees with a specific role.\n",
    "target_role = 'Junior Developer'\n",
    "\n",
    "def filter_by_role(d, target_role):\n",
    "    if isinstance(d, dict):\n",
    "        filtered ={}\n",
    "        for key, value in d.items():\n",
    "            # if the value is a dictionary, recurse.\n",
    "            filtered_value = filter_by_role(value, target_role)\n",
    "            # if employee's role matches with target_role, or it's a nested dictionary with matches\n",
    "            if (isinstance(value, dict) and 'role' in value and value['role'] == target_role ) or filtered_value:\n",
    "                if isinstance(filtered_value, dict):\n",
    "                    filtered[key] = filtered_value\n",
    "                else:\n",
    "                    filtered[key] = value\n",
    "        return filtered if filtered else None\n",
    "    else:\n",
    "        return None \n",
    "filter_by_role(d=company_structure, target_role=target_role)\n",
    "            \n",
    "\n"
   ]
  },
  {
   "cell_type": "code",
   "execution_count": 29,
   "metadata": {},
   "outputs": [
    {
     "name": "stdout",
     "output_type": "stream",
     "text": [
      "\n",
      " {'HR': {'Team1': {'Alice': {'role': 'Manager', 'age': 35, 'salary': 75000}, 'Bob': {'role': 'Recruiter', 'age': 28, 'salary': 50000}}, 'Team2': {'Charlie': {'role': 'HR Specialist', 'age': 32, 'salary': 60000}}}, 'IT': {'Development': {'Team1': {'Dave': {'role': 'Senior Developer', 'age': 40, 'salary': 90000}, 'Eve': {'role': 'Junior Developer', 'age': 25, 'salary': 60000}}, 'Team2': {'Frank': {'role': 'DevOps Engineer', 'age': 30, 'salary': 85000}}}, 'Support': {'Alice': {'role': 'Support Specialist', 'age': 27, 'salary': 55000}, 'Greg': {'role': 'Support Lead', 'age': 38, 'salary': 70000}}}}\n",
      "\n",
      " {'Team1': {'Alice': {'role': 'Manager', 'age': 35, 'salary': 75000}, 'Bob': {'role': 'Recruiter', 'age': 28, 'salary': 50000}}, 'Team2': {'Charlie': {'role': 'HR Specialist', 'age': 32, 'salary': 60000}}}\n",
      "\n",
      " {'Alice': {'role': 'Manager', 'age': 35, 'salary': 75000}, 'Bob': {'role': 'Recruiter', 'age': 28, 'salary': 50000}}\n",
      "\n",
      " {'role': 'Manager', 'age': 35, 'salary': 75000}\n",
      "\n",
      " Manager\n",
      "\n",
      " 35\n",
      "\n",
      " 75000\n",
      "\n",
      " {'role': 'Recruiter', 'age': 28, 'salary': 50000}\n",
      "\n",
      " Recruiter\n",
      "\n",
      " 28\n",
      "\n",
      " 50000\n",
      "\n",
      " {'Charlie': {'role': 'HR Specialist', 'age': 32, 'salary': 60000}}\n",
      "\n",
      " {'role': 'HR Specialist', 'age': 32, 'salary': 60000}\n",
      "\n",
      " HR Specialist\n",
      "\n",
      " 32\n",
      "\n",
      " 60000\n",
      "\n",
      " {'Development': {'Team1': {'Dave': {'role': 'Senior Developer', 'age': 40, 'salary': 90000}, 'Eve': {'role': 'Junior Developer', 'age': 25, 'salary': 60000}}, 'Team2': {'Frank': {'role': 'DevOps Engineer', 'age': 30, 'salary': 85000}}}, 'Support': {'Alice': {'role': 'Support Specialist', 'age': 27, 'salary': 55000}, 'Greg': {'role': 'Support Lead', 'age': 38, 'salary': 70000}}}\n",
      "\n",
      " {'Team1': {'Dave': {'role': 'Senior Developer', 'age': 40, 'salary': 90000}, 'Eve': {'role': 'Junior Developer', 'age': 25, 'salary': 60000}}, 'Team2': {'Frank': {'role': 'DevOps Engineer', 'age': 30, 'salary': 85000}}}\n",
      "\n",
      " {'Dave': {'role': 'Senior Developer', 'age': 40, 'salary': 90000}, 'Eve': {'role': 'Junior Developer', 'age': 25, 'salary': 60000}}\n",
      "\n",
      " {'role': 'Senior Developer', 'age': 40, 'salary': 90000}\n",
      "\n",
      " Senior Developer\n",
      "\n",
      " 40\n",
      "\n",
      " 90000\n",
      "\n",
      " {'role': 'Junior Developer', 'age': 25, 'salary': 60000}\n",
      "\n",
      " Junior Developer\n",
      "\n",
      " 25\n",
      "\n",
      " 60000\n",
      "\n",
      " {'Frank': {'role': 'DevOps Engineer', 'age': 30, 'salary': 85000}}\n",
      "\n",
      " {'role': 'DevOps Engineer', 'age': 30, 'salary': 85000}\n",
      "\n",
      " DevOps Engineer\n",
      "\n",
      " 30\n",
      "\n",
      " 85000\n",
      "\n",
      " {'Alice': {'role': 'Support Specialist', 'age': 27, 'salary': 55000}, 'Greg': {'role': 'Support Lead', 'age': 38, 'salary': 70000}}\n",
      "\n",
      " {'role': 'Support Specialist', 'age': 27, 'salary': 55000}\n",
      "\n",
      " Support Specialist\n",
      "\n",
      " 27\n",
      "\n",
      " 55000\n",
      "\n",
      " {'role': 'Support Lead', 'age': 38, 'salary': 70000}\n",
      "\n",
      " Support Lead\n",
      "\n",
      " 38\n",
      "\n",
      " 70000\n"
     ]
    },
    {
     "data": {
      "text/plain": [
       "{'Company': {'IT': {'Development': {'Team1': {'Eve': {'role': 'Junior Developer',\n",
       "      'age': 25,\n",
       "      'salary': 60000}}}}}}"
      ]
     },
     "execution_count": 29,
     "metadata": {},
     "output_type": "execute_result"
    }
   ],
   "source": [
    "def filter_by_role(d, target):\n",
    "    if isinstance(d, dict):\n",
    "        filtered = {}\n",
    "        for key, value in d.items():\n",
    "            print(f\"\\n {value}\")\n",
    "            filtered_value = filter_by_role(value, target)\n",
    "            if (isinstance(value, dict) and'role' in value and value['role'] == target )or filtered_value:\n",
    "                if isinstance(filtered_value, dict):\n",
    "                    filtered[key] = filtered_value \n",
    "                else:\n",
    "                    filtered[key] = value\n",
    "        return filtered if filtered else None\n",
    "    else:\n",
    "        return None\n",
    "filter_by_role(d=company_structure, target=target_role)"
   ]
  },
  {
   "cell_type": "code",
   "execution_count": 13,
   "metadata": {},
   "outputs": [
    {
     "name": "stdout",
     "output_type": "stream",
     "text": [
      "1  \n",
      "\n"
     ]
    }
   ],
   "source": [
    "print(1, \" \\n\")"
   ]
  },
  {
   "cell_type": "code",
   "execution_count": 24,
   "metadata": {},
   "outputs": [],
   "source": [
    "x = {}\n",
    "if x:\n",
    "    print(\"go\")"
   ]
  },
  {
   "cell_type": "code",
   "execution_count": null,
   "metadata": {},
   "outputs": [],
   "source": []
  }
 ],
 "metadata": {
  "kernelspec": {
   "display_name": "base",
   "language": "python",
   "name": "python3"
  },
  "language_info": {
   "codemirror_mode": {
    "name": "ipython",
    "version": 3
   },
   "file_extension": ".py",
   "mimetype": "text/x-python",
   "name": "python",
   "nbconvert_exporter": "python",
   "pygments_lexer": "ipython3",
   "version": "3.11.5"
  }
 },
 "nbformat": 4,
 "nbformat_minor": 2
}
