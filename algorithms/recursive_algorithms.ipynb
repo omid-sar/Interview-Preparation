{
 "cells": [
  {
   "cell_type": "code",
   "execution_count": 4,
   "metadata": {},
   "outputs": [],
   "source": [
    "company_structure = {\n",
    "    'Company': {\n",
    "        'HR': {\n",
    "            'Team1': {\n",
    "                'Alice': {'role': 'Manager', 'age': 35, 'salary': 75000},\n",
    "                'Bob': {'role': 'Recruiter', 'age': 28, 'salary': 50000}\n",
    "            },\n",
    "            'Team2': {\n",
    "                'Charlie': {'role': 'HR Specialist', 'age': 32, 'salary': 60000}\n",
    "            }\n",
    "        },\n",
    "        'IT': {\n",
    "            'Development': {\n",
    "                'Team1': {\n",
    "                    'Dave': {'role': 'Senior Developer', 'age': 40, 'salary': 90000},\n",
    "                    'Eve': {'role': 'Junior Developer', 'age': 25, 'salary': 60000}\n",
    "                },\n",
    "                'Team2': {\n",
    "                    'Frank': {'role': 'DevOps Engineer', 'age': 30, 'salary': 85000}\n",
    "                }\n",
    "            },\n",
    "            'Support': {\n",
    "                'Alice': {'role': 'Support Specialist', 'age': 27, 'salary': 55000},\n",
    "                'Greg': {'role': 'Support Lead', 'age': 38, 'salary': 70000}\n",
    "            }\n",
    "        }\n",
    "    }\n",
    "}"
   ]
  },
  {
   "cell_type": "code",
   "execution_count": 42,
   "metadata": {},
   "outputs": [
    {
     "data": {
      "text/plain": [
       "{'Company': {'IT': {'Development': {'Team1': {'Eve': {'role': 'Junior Developer',\n",
       "      'age': 25,\n",
       "      'salary': 60000}}}}}}"
      ]
     },
     "execution_count": 42,
     "metadata": {},
     "output_type": "execute_result"
    }
   ],
   "source": [
    "# Nested dictonary with key and value at the deepest or the top level\n",
    "# A function to filter the nested dictionary to only include employees with a specific role.\n",
    "target_role = 'Junior Developer'\n",
    "\n",
    "def filter_by_role(d, target_role):\n",
    "    if isinstance(d, dict):\n",
    "        filtered ={}\n",
    "        for key, value in d.items():\n",
    "            # if the value is a dictionary, recurse.\n",
    "            filtered_value = filter_by_role(value, target_role)\n",
    "            # if employee's role matches with target_role, or it's a nested dictionary with matches\n",
    "            if (isinstance(value, dict) and 'role' in value and value['role'] == target_role ) or filtered_value:\n",
    "                if isinstance(filtered_value, dict):\n",
    "                    filtered[key] = filtered_value\n",
    "                else:\n",
    "                    filtered[key] = value\n",
    "        return filtered if filtered else None\n",
    "    else:\n",
    "        return None \n",
    "filter_by_role(d=company_structure, target_role=target_role)\n",
    "            \n",
    "\n"
   ]
  },
  {
   "cell_type": "code",
   "execution_count": 41,
   "metadata": {},
   "outputs": [],
   "source": [
    "company_structure = {\n",
    "    'Company': {\n",
    "        'HR': {\n",
    "            'role': 'Department Head',\n",
    "            'Team1': {\n",
    "                'Alice': {'role': 'Manager', 'age': 35, 'salary': 75000},\n",
    "                'Bob': {'role': 'Recruiter', 'age': 28, 'salary': 50000}\n",
    "            },\n",
    "            'Team2': {\n",
    "                'Charlie': {'role': 'HR Specialist', 'age': 32, 'salary': 60000}\n",
    "            }\n",
    "        },\n",
    "        'IT': {\n",
    "            'Development': {\n",
    "                'Team1': {\n",
    "                    'Dave': {'role': 'Senior Developer', 'age': 40, 'salary': 90000},\n",
    "                    'Eve': {'role': 'Junior Developer', 'age': 25, 'salary': 60000}\n",
    "                },\n",
    "                'Team2': {\n",
    "                    'Frank': {'role': 'DevOps Engineer', 'age': 30, 'salary': 85000}\n",
    "                }\n",
    "            },\n",
    "            'Support': {\n",
    "                'Alice': {'role': 'Department Head', 'age': 27, 'salary': 55000},\n",
    "                'Greg': {'role': 'Support Lead', 'age': 38, 'salary': 70000},\n",
    "            },\n",
    "            'Omid': {'role': 'Department Head', 'age': 35, 'salary': 120000}  # This is in the middle layer, not the deepest\n",
    "        }\n",
    "    }\n",
    "}"
   ]
  },
  {
   "cell_type": "code",
   "execution_count": 40,
   "metadata": {},
   "outputs": [
    {
     "name": "stdout",
     "output_type": "stream",
     "text": [
      "{'HR': {'role': 'Department Head', 'Team1': {'Alice': {'role': 'Manager', 'age': 35, 'salary': 75000}, 'Bob': {'role': 'Recruiter', 'age': 28, 'salary': 50000}}, 'Team2': {'Charlie': {'role': 'HR Specialist', 'age': 32, 'salary': 60000}}}, 'IT': {'Development': {'Team1': {'Dave': {'role': 'Senior Developer', 'age': 40, 'salary': 90000}, 'Eve': {'role': 'Junior Developer', 'age': 25, 'salary': 60000}}, 'Team2': {'Frank': {'role': 'DevOps Engineer', 'age': 30, 'salary': 85000}}}, 'Support': {'Alice': {'role': 'Department Head', 'age': 27, 'salary': 55000}, 'Greg': {'role': 'Support Lead', 'age': 38, 'salary': 70000}}, 'Omid': {'role': 'Department Head', 'age': 35, 'salary': 120000}}}\n",
      "{'role': 'Department Head', 'Team1': {'Alice': {'role': 'Manager', 'age': 35, 'salary': 75000}, 'Bob': {'role': 'Recruiter', 'age': 28, 'salary': 50000}}, 'Team2': {'Charlie': {'role': 'HR Specialist', 'age': 32, 'salary': 60000}}}\n",
      "Department Head\n",
      "{'Alice': {'role': 'Manager', 'age': 35, 'salary': 75000}, 'Bob': {'role': 'Recruiter', 'age': 28, 'salary': 50000}}\n",
      "{'role': 'Manager', 'age': 35, 'salary': 75000}\n",
      "Manager\n",
      "35\n",
      "75000\n",
      "{'role': 'Recruiter', 'age': 28, 'salary': 50000}\n",
      "Recruiter\n",
      "28\n",
      "50000\n",
      "{'Charlie': {'role': 'HR Specialist', 'age': 32, 'salary': 60000}}\n",
      "{'role': 'HR Specialist', 'age': 32, 'salary': 60000}\n",
      "HR Specialist\n",
      "32\n",
      "60000\n",
      "{'Development': {'Team1': {'Dave': {'role': 'Senior Developer', 'age': 40, 'salary': 90000}, 'Eve': {'role': 'Junior Developer', 'age': 25, 'salary': 60000}}, 'Team2': {'Frank': {'role': 'DevOps Engineer', 'age': 30, 'salary': 85000}}}, 'Support': {'Alice': {'role': 'Department Head', 'age': 27, 'salary': 55000}, 'Greg': {'role': 'Support Lead', 'age': 38, 'salary': 70000}}, 'Omid': {'role': 'Department Head', 'age': 35, 'salary': 120000}}\n",
      "{'Team1': {'Dave': {'role': 'Senior Developer', 'age': 40, 'salary': 90000}, 'Eve': {'role': 'Junior Developer', 'age': 25, 'salary': 60000}}, 'Team2': {'Frank': {'role': 'DevOps Engineer', 'age': 30, 'salary': 85000}}}\n",
      "{'Dave': {'role': 'Senior Developer', 'age': 40, 'salary': 90000}, 'Eve': {'role': 'Junior Developer', 'age': 25, 'salary': 60000}}\n",
      "{'role': 'Senior Developer', 'age': 40, 'salary': 90000}\n",
      "Senior Developer\n",
      "40\n",
      "90000\n",
      "{'role': 'Junior Developer', 'age': 25, 'salary': 60000}\n",
      "Junior Developer\n",
      "25\n",
      "60000\n",
      "{'Frank': {'role': 'DevOps Engineer', 'age': 30, 'salary': 85000}}\n",
      "{'role': 'DevOps Engineer', 'age': 30, 'salary': 85000}\n",
      "DevOps Engineer\n",
      "30\n",
      "85000\n",
      "{'Alice': {'role': 'Department Head', 'age': 27, 'salary': 55000}, 'Greg': {'role': 'Support Lead', 'age': 38, 'salary': 70000}}\n",
      "{'role': 'Department Head', 'age': 27, 'salary': 55000}\n",
      "Department Head\n",
      "27\n",
      "55000\n",
      "{'role': 'Support Lead', 'age': 38, 'salary': 70000}\n",
      "Support Lead\n",
      "38\n",
      "70000\n",
      "{'role': 'Department Head', 'age': 35, 'salary': 120000}\n",
      "Department Head\n",
      "35\n",
      "120000\n"
     ]
    },
    {
     "data": {
      "text/plain": [
       "{'Company': {'HR': {'role': 'Department Head',\n",
       "   'Team1': {'Alice': {'role': 'Manager', 'age': 35, 'salary': 75000},\n",
       "    'Bob': {'role': 'Recruiter', 'age': 28, 'salary': 50000}},\n",
       "   'Team2': {'Charlie': {'role': 'HR Specialist',\n",
       "     'age': 32,\n",
       "     'salary': 60000}}},\n",
       "  'IT': {'Support': {'Alice': {'role': 'Department Head',\n",
       "     'age': 27,\n",
       "     'salary': 55000}},\n",
       "   'Omid': {'role': 'Department Head', 'age': 35, 'salary': 120000}}}}"
      ]
     },
     "execution_count": 40,
     "metadata": {},
     "output_type": "execute_result"
    }
   ],
   "source": [
    "# If dealing with a nested dictionary and the key-value pair we’re looking for might be in any layer of the dictionary\n",
    "target_role = 'Department Head'\n",
    "def filter_by_role(d, target_role):\n",
    "    if isinstance(d, dict):\n",
    "        filtered ={}\n",
    "        for key, value in d.items():\n",
    "            # if the value is a dictionary, recurse.\n",
    "            filtered_value = filter_by_role(value, target_role)\n",
    "            # if employee's role matches with target_role, or it's a nested dictionary with matches\n",
    "            if (isinstance(value, dict) and 'role' in value and value['role'] == target_role ):\n",
    "                filtered[key] = value\n",
    "            elif filtered_value:\n",
    "                filtered[key] = filtered_value\n",
    "    \n",
    "        return filtered if filtered else None\n",
    "    else:\n",
    "        return None \n",
    "filter_by_role(d=company_structure, target_role=target_role)\n",
    "            "
   ]
  },
  {
   "cell_type": "code",
   "execution_count": 43,
   "metadata": {},
   "outputs": [],
   "source": [
    "def filter_by_key_value(d, target_key, target_value):\n",
    "    \"\"\"\n",
    "    Recursively filters a nested dictionary to include only dictionaries that contain a specific key-value pair.\n",
    "    \n",
    "    Parameters:\n",
    "    - d (dict): The nested dictionary to search through.\n",
    "    - target_key (str): The key to look for.\n",
    "    - target_value: The value associated with the key to filter by.\n",
    "    \n",
    "    Returns:\n",
    "    - dict: A filtered dictionary containing only the dictionaries that have the target key-value pair.\n",
    "    \"\"\"\n",
    "    if isinstance(d, dict):\n",
    "        filtered = {}\n",
    "\n",
    "        for key, value in d.items():\n",
    "            # Recursively filter the nested structure\n",
    "            filtered_value = filter_by_key_value(value, target_key, target_value)\n",
    "            \n",
    "            # Check if current level has the target key-value pair\n",
    "            if (isinstance(value, dict) and target_key in value and value[target_key] == target_value):\n",
    "                filtered[key] = value\n",
    "            # If the recursive call returns a non-None dictionary, include it in the result\n",
    "            elif filtered_value:\n",
    "                filtered[key] = filtered_value\n",
    "\n",
    "        # Return the filtered dictionary or None if no matches found\n",
    "        return filtered if filtered else None\n",
    "    else:\n",
    "        return None"
   ]
  },
  {
   "cell_type": "code",
   "execution_count": 44,
   "metadata": {},
   "outputs": [],
   "source": [
    "company_structure = {\n",
    "    'Company': {\n",
    "        'HR': {\n",
    "            'Team1': {\n",
    "                'Alice': {'role': 'Manager', 'age': 35, 'salary': 75000},\n",
    "                'Bob': {'role': 'Recruiter', 'age': 28, 'salary': 50000}\n",
    "            },\n",
    "            'Team2': {\n",
    "                'Charlie': {'role': 'HR Specialist', 'age': 32, 'salary': 60000}\n",
    "            }\n",
    "        },\n",
    "        'IT': {\n",
    "            'role': 'Department Head',  # This is in the middle layer, not the deepest\n",
    "            'Development': {\n",
    "                'Team1': {\n",
    "                    'Dave': {'role': 'Senior Developer', 'age': 40, 'salary': 90000},\n",
    "                    'Eve': {'role': 'Junior Developer', 'age': 25, 'salary': 60000}\n",
    "                },\n",
    "                'Team2': {\n",
    "                    'Frank': {'role': 'DevOps Engineer', 'age': 30, 'salary': 85000}\n",
    "                }\n",
    "            },\n",
    "            'Support': {\n",
    "                'Alice': {'role': 'Support Specialist', 'age': 27, 'salary': 55000},\n",
    "                'Greg': {'role': 'Support Lead', 'age': 38, 'salary': 70000}\n",
    "            }\n",
    "        }\n",
    "    }\n",
    "}"
   ]
  },
  {
   "cell_type": "code",
   "execution_count": 45,
   "metadata": {},
   "outputs": [
    {
     "name": "stdout",
     "output_type": "stream",
     "text": [
      "{'Company': {'IT': {'role': 'Department Head', 'Development': {'Team1': {'Dave': {'role': 'Senior Developer', 'age': 40, 'salary': 90000}, 'Eve': {'role': 'Junior Developer', 'age': 25, 'salary': 60000}}, 'Team2': {'Frank': {'role': 'DevOps Engineer', 'age': 30, 'salary': 85000}}}, 'Support': {'Alice': {'role': 'Support Specialist', 'age': 27, 'salary': 55000}, 'Greg': {'role': 'Support Lead', 'age': 38, 'salary': 70000}}}}}\n"
     ]
    }
   ],
   "source": [
    "# Example usage: Filter all dictionaries containing the role 'Department Head'\n",
    "filtered_structure = filter_by_key_value(company_structure, 'role', 'Department Head')\n",
    "print(filtered_structure)"
   ]
  },
  {
   "cell_type": "code",
   "execution_count": null,
   "metadata": {},
   "outputs": [],
   "source": []
  }
 ],
 "metadata": {
  "kernelspec": {
   "display_name": "base",
   "language": "python",
   "name": "python3"
  },
  "language_info": {
   "codemirror_mode": {
    "name": "ipython",
    "version": 3
   },
   "file_extension": ".py",
   "mimetype": "text/x-python",
   "name": "python",
   "nbconvert_exporter": "python",
   "pygments_lexer": "ipython3",
   "version": "3.11.5"
  }
 },
 "nbformat": 4,
 "nbformat_minor": 2
}
