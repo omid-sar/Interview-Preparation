{
 "cells": [
  {
   "cell_type": "code",
   "execution_count": 2,
   "metadata": {},
   "outputs": [
    {
     "data": {
      "text/plain": [
       "5.0"
      ]
     },
     "execution_count": 2,
     "metadata": {},
     "output_type": "execute_result"
    }
   ],
   "source": [
    "def distance(x1, y1, x2, y2):\n",
    "    return abs((x1-x2) + (y1-y2) * 1j)\n",
    "distance(0,0,3,4)"
   ]
  },
  {
   "cell_type": "code",
   "execution_count": 14,
   "metadata": {},
   "outputs": [
    {
     "name": "stdout",
     "output_type": "stream",
     "text": [
      "False\n"
     ]
    },
    {
     "data": {
      "text/plain": [
       "True"
      ]
     },
     "execution_count": 14,
     "metadata": {},
     "output_type": "execute_result"
    }
   ],
   "source": [
    "arr = [2, 4, 6, 7, 10]\n",
    "print(all([num % 2 == 0 for num in arr]))\n",
    "any([num % 4 == 0 for num in arr ])"
   ]
  },
  {
   "cell_type": "code",
   "execution_count": 13,
   "metadata": {},
   "outputs": [
    {
     "data": {
      "text/plain": [
       "False"
      ]
     },
     "execution_count": 13,
     "metadata": {},
     "output_type": "execute_result"
    }
   ],
   "source": [
    "user_data = {'name': 'John', 'email': 'john@example.com', 'age': 30}\n",
    "def valid_user_input(data):\n",
    "    field_requrement = ['name', 'email', 'age']\n",
    "    return all([field in data for field in field_requrement])\n",
    "valid_user_input(user_data)"
   ]
  },
  {
   "cell_type": "code",
   "execution_count": 30,
   "metadata": {},
   "outputs": [
    {
     "data": {
      "text/plain": [
       "True"
      ]
     },
     "execution_count": 30,
     "metadata": {},
     "output_type": "execute_result"
    }
   ],
   "source": [
    "article = \"Python is a versatile programming language.\"\n",
    "search_terms = ['java', 'python', 'ruby']\n",
    "\n",
    "def search_keyword(text, keywords):\n",
    "    text = text.lower()\n",
    "    return any([keyword in text for keyword in keywords])\n",
    "\n",
    "search_keyword(article, search_terms)"
   ]
  },
  {
   "cell_type": "code",
   "execution_count": 31,
   "metadata": {},
   "outputs": [
    {
     "name": "stdout",
     "output_type": "stream",
     "text": [
      "10101\n"
     ]
    }
   ],
   "source": [
    "def binary_add(a, b):\n",
    "    return bin(int(a, 2) + int(b,2))[2:]\n",
    "print(binary_add('1010', '1011'))"
   ]
  },
  {
   "cell_type": "code",
   "execution_count": 39,
   "metadata": {},
   "outputs": [
    {
     "data": {
      "text/plain": [
       "True"
      ]
     },
     "execution_count": 39,
     "metadata": {},
     "output_type": "execute_result"
    }
   ],
   "source": [
    "user = 'MIck@4512'\n",
    "def user_is_valid(user):\n",
    "    return bool(len(user) >=8 and  sum(1 for c in user if c.isupper()) > 1 and any(c.isdigit() for c in user))\n",
    "user_is_valid(user)"
   ]
  },
  {
   "cell_type": "code",
   "execution_count": 40,
   "metadata": {},
   "outputs": [
    {
     "data": {
      "text/plain": [
       "'Default case'"
      ]
     },
     "execution_count": 40,
     "metadata": {},
     "output_type": "execute_result"
    }
   ],
   "source": [
    "case = 5\n",
    "{1: \"Case 1\", 2: \"Case 2\", 3: \"Case 3\"}.get(case, \"Default case\")\n"
   ]
  },
  {
   "cell_type": "code",
   "execution_count": 55,
   "metadata": {},
   "outputs": [
    {
     "data": {
      "text/plain": [
       "{0: 'apple', 1: 'banana', 2: 'cherry'}"
      ]
     },
     "execution_count": 55,
     "metadata": {},
     "output_type": "execute_result"
    }
   ],
   "source": [
    "fruits = ['apple', 'banana', 'cherry']\n",
    "{index : fruit for index, fruit in enumerate(fruits)}"
   ]
  },
  {
   "cell_type": "code",
   "execution_count": 42,
   "metadata": {},
   "outputs": [
    {
     "data": {
      "text/plain": [
       "{'the': 2,\n",
       " 'quick': 1,\n",
       " 'brown': 1,\n",
       " 'fox': 1,\n",
       " 'jumps': 1,\n",
       " 'over': 1,\n",
       " 'lazy': 1,\n",
       " 'dog': 1}"
      ]
     },
     "execution_count": 42,
     "metadata": {},
     "output_type": "execute_result"
    }
   ],
   "source": [
    "d3 = dict([('x', 10), ('y', 20), ('z', 30)]) # Output: {'x': 10, 'y': 20, 'z': 30}\n",
    "\n",
    "text = \"the quick brown fox jumps over the lazy dog\"\n",
    "def word_frequency(text):\n",
    "    text = text.lower().split()\n",
    "    return dict((word, text.count(word ))for word in text)\n",
    "word_frequency(text)"
   ]
  },
  {
   "cell_type": "code",
   "execution_count": 60,
   "metadata": {},
   "outputs": [],
   "source": [
    "todo_list = ['Buy groceries', 'Clean the house', 'Do laundry', 'Pay bills']\n",
    "\n",
    "def create_numbered_list(items, filename):\n",
    "    with open(filename, 'w') as f:\n",
    "        for index, item in enumerate(items, start=1):\n",
    "            f.write(f'{index}. {item} \\n')\n",
    "\n",
    "create_numbered_list(todo_list, 'todo.txt')"
   ]
  },
  {
   "cell_type": "code",
   "execution_count": 71,
   "metadata": {},
   "outputs": [
    {
     "data": {
      "text/plain": [
       "[0, 4, 16, 36, 64]"
      ]
     },
     "execution_count": 71,
     "metadata": {},
     "output_type": "execute_result"
    }
   ],
   "source": [
    "# Create a list of squares of even numbers from 0 to 9\n",
    "[num **2 for num in range(9+1) if num % 2 == 0]"
   ]
  },
  {
   "cell_type": "code",
   "execution_count": 130,
   "metadata": {},
   "outputs": [
    {
     "data": {
      "text/plain": [
       "[(3, 'ahree'), (4, 'four'), (1, 'one'), (2, 'two')]"
      ]
     },
     "execution_count": 130,
     "metadata": {},
     "output_type": "execute_result"
    }
   ],
   "source": [
    "# Use a lambda function to sort a list of tuples by the second element\n",
    "pairs = [(1, 'one'), (3, 'ahree'), (2, 'two'), (4, 'four')]\n",
    "sorted(pairs, key= lambda x: x[1])"
   ]
  },
  {
   "cell_type": "code",
   "execution_count": 92,
   "metadata": {},
   "outputs": [
    {
     "name": "stdout",
     "output_type": "stream",
     "text": [
      "[1, 2, 3, 4, 5, 6, 7, 8, 9]\n",
      "{'a': 0, 'b': 1, 'c': 2, 'd': 3, 'e': 4, 'f': 5, 'g': 6}\n"
     ]
    },
    {
     "data": {
      "text/plain": [
       "[('a', 0), ('b', 1), ('c', 2), ('d', 3), ('e', 4), ('f', 5), ('g', 6)]"
      ]
     },
     "execution_count": 92,
     "metadata": {},
     "output_type": "execute_result"
    }
   ],
   "source": [
    "print(list(range(1,10)))\n",
    "a_list =list(range(1,10))\n",
    "print({\"a b c d e f g \".split()[num]: num for num in range(7)})\n",
    "a_dict = {\"a b c d e f g \".split()[num]: num for num in range(7)}\n",
    "tuples = [(\"a b c d e f g \".split()[num], num) for num in range(7)]\n",
    "[(\"a b c d e f g \".split()[num], num) for num in range(7)]"
   ]
  },
  {
   "cell_type": "code",
   "execution_count": 116,
   "metadata": {},
   "outputs": [
    {
     "data": {
      "text/plain": [
       "[('R', 'a'), ('Z', 'b'), ('T', 'c')]"
      ]
     },
     "execution_count": 116,
     "metadata": {},
     "output_type": "execute_result"
    }
   ],
   "source": [
    "list1 = [\"R\", \"Z\", \"T\"]\n",
    "list2 = [\"a\", \"b\", \"c\"]\n",
    "#1\n",
    "combined = list(zip(list1, list2))\n",
    "#2\n",
    "[(list1[i], list[i]) for i in range(len(list1))]\n",
    "#3\n",
    "result = []\n",
    "for i in range(len(list1)):\n",
    "    result.append((list1[i], list2[i]))\n",
    "result"
   ]
  },
  {
   "cell_type": "code",
   "execution_count": 2,
   "metadata": {},
   "outputs": [
    {
     "name": "stdout",
     "output_type": "stream",
     "text": [
      "[3, 4, 5]\n"
     ]
    }
   ],
   "source": [
    "list2 = [4,5]\n",
    "list3 = [3, 4, 5]\n",
    "list4 = list2 + list3  # Assuming list2 is defined earlier\n",
    "\n",
    "# Use a proper variable name instead of `list`\n",
    "unique_elements = list(set(list4))\n",
    "\n",
    "print(unique_elements)\n"
   ]
  },
  {
   "cell_type": "code",
   "execution_count": 5,
   "metadata": {},
   "outputs": [],
   "source": [
    "def get_prime_numbers(nums):\n",
    "    prime_list =[]\n",
    "    for num in nums:\n",
    "        if num < 2:\n",
    "            continue\n",
    "        is_prime = True\n",
    "        for i in range(2, int(num**0.5)+1):\n",
    "            if num % i == 0:\n",
    "                is_prime = False\n",
    "                break\n",
    "        if is_prime == True:\n",
    "            prime_list.append(num)\n",
    "    return prime_list\n"
   ]
  },
  {
   "cell_type": "code",
   "execution_count": 25,
   "metadata": {},
   "outputs": [
    {
     "data": {
      "text/plain": [
       "6"
      ]
     },
     "execution_count": 25,
     "metadata": {},
     "output_type": "execute_result"
    }
   ],
   "source": [
    "def minimum_change(cents):\n",
    "    coins = [25, 10, 5, 1]\n",
    "    coins = sorted(coins, reverse=True)\n",
    "    num_coins = 0\n",
    "    res = cents\n",
    "    for coin in coins:\n",
    "        num_coins += res // coin\n",
    "        res = res % coin \n",
    "    return num_coins\n",
    "minimum_change(54)"
   ]
  },
  {
   "cell_type": "code",
   "execution_count": 46,
   "metadata": {},
   "outputs": [
    {
     "data": {
      "text/plain": [
       "2"
      ]
     },
     "execution_count": 46,
     "metadata": {},
     "output_type": "execute_result"
    }
   ],
   "source": [
    "nums = [1, 7, 3, 5, 6]\n",
    "def equivalent_index(nums):\n",
    "     for i in range(len(nums)):\n",
    "          if sum(nums[:i+1])==sum(nums[i+1:]):\n",
    "               return i\n",
    "     return -1\n",
    "equivalent_index(nums)"
   ]
  },
  {
   "cell_type": "code",
   "execution_count": 49,
   "metadata": {},
   "outputs": [
    {
     "data": {
      "text/plain": [
       "2"
      ]
     },
     "execution_count": 49,
     "metadata": {},
     "output_type": "execute_result"
    }
   ],
   "source": [
    "def equivalent_index(nums):\n",
    "     nums_sum = sum(nums)\n",
    "     left_sum = 0\n",
    "     if nums_sum % 2 != 0:\n",
    "          return -1\n",
    "     for idx, num in enumerate(nums):\n",
    "          left_sum += num\n",
    "          if left_sum == nums_sum/2:\n",
    "               return idx\n",
    "     return -1\n",
    "equivalent_index(nums)   "
   ]
  },
  {
   "cell_type": "code",
   "execution_count": 107,
   "metadata": {},
   "outputs": [
    {
     "data": {
      "text/plain": [
       "[['Chennai', 'Bangalore'],\n",
       " ['Bombay', 'Delhi'],\n",
       " ['Goa', 'Chennai'],\n",
       " ['Delhi', 'Goa'],\n",
       " ['Bangalore', 'Beijing']]"
      ]
     },
     "execution_count": 107,
     "metadata": {},
     "output_type": "execute_result"
    }
   ],
   "source": [
    "flights"
   ]
  },
  {
   "cell_type": "code",
   "execution_count": 113,
   "metadata": {},
   "outputs": [
    {
     "data": {
      "text/plain": [
       "[['Bombay', 'Delhi'],\n",
       " ['Delhi', 'Goa'],\n",
       " ['Goa', 'Chennai'],\n",
       " ['Chennai', 'Bangalore'],\n",
       " ['Bangalore', 'Beijing']]"
      ]
     },
     "execution_count": 113,
     "metadata": {},
     "output_type": "execute_result"
    }
   ],
   "source": [
    "flights = [\n",
    "    ['Chennai', 'Bangalore'], \n",
    "    ['Bombay', 'Delhi'], \n",
    "    ['Goa', 'Chennai'], \n",
    "    ['Delhi', 'Goa'], \n",
    "    ['Bangalore', 'Beijing']\n",
    "]\n",
    "\n",
    "def plan_trip(flights):\n",
    "    origin_cities_list = []\n",
    "    destination_cities_list = []\n",
    "    \n",
    "    for flight in flights:\n",
    "        origin, destination = flight\n",
    "        origin_cities_list.append(origin)\n",
    "        destination_cities_list.append(destination)\n",
    "\n",
    "    # Find the starting city\n",
    "    origin = None\n",
    "    for city in origin_cities_list:\n",
    "        if city not in destination_cities_list:\n",
    "            origin = city\n",
    "            break\n",
    "    \n",
    "    # Reconstruct the trip in order\n",
    "    output = []\n",
    "    for _ in range(len(flights)):\n",
    "        for flight in flights:\n",
    "            if flight[0] == origin:\n",
    "                output.append(flight)\n",
    "                origin = flight[1]\n",
    "                break\n",
    "    return output\n",
    "\n",
    "plan_trip(flights)\n"
   ]
  },
  {
   "cell_type": "code",
   "execution_count": 114,
   "metadata": {},
   "outputs": [],
   "source": [
    "def one_element_removed(list_x,list_y):\n",
    "\n",
    "    original_list, missed_list = (list_x, list_y )if len(list_x) > len(list_y) else (list_y, list_x)\n",
    "    return sum(original_list) - sum(missed_list)\n"
   ]
  },
  {
   "cell_type": "code",
   "execution_count": 140,
   "metadata": {},
   "outputs": [
    {
     "data": {
      "text/plain": [
       "[4, 2, 3, 0, 0, 0]"
      ]
     },
     "execution_count": 140,
     "metadata": {},
     "output_type": "execute_result"
    }
   ],
   "source": [
    "array = [0,0,4,2,0,3]\n",
    "def move_zeros_back(array):\n",
    "    non_zero_array = [array[i] for i in range(len(array)) if array[i] != 0]\n",
    "    num_zeros = array.count(0)\n",
    "    return non_zero_array + [0] * num_zeros\n",
    "move_zeros_back(array)"
   ]
  },
  {
   "cell_type": "code",
   "execution_count": 174,
   "metadata": {},
   "outputs": [
    {
     "data": {
      "text/plain": [
       "True"
      ]
     },
     "execution_count": 174,
     "metadata": {},
     "output_type": "execute_result"
    }
   ],
   "source": [
    "str = 'cacerra'\n",
    "def perm_palindrome(str):\n",
    "    character_counts = list({(char, str.count(char)) for char in str})\n",
    "    even_characters = [char_count[1] % 2 == 0 for char_count in character_counts]\n",
    "    return False if even_characters.count(False)>1 else True\n",
    "perm_palindrome(str)\n"
   ]
  },
  {
   "cell_type": "code",
   "execution_count": 79,
   "metadata": {},
   "outputs": [
    {
     "data": {
      "text/plain": [
       "[[6, 3], [7, 4], [5, 3], [2, 4]]"
      ]
     },
     "execution_count": 79,
     "metadata": {},
     "output_type": "execute_result"
    }
   ],
   "source": [
    "# You have store credit of N dollars. However, you don’t want to walk a long distance with heavy book_list, but you want to spend all of your store credit.\n",
    "# Let’s say we have a list of book_list in the format of tuples where the first value is the price and the second value is the weight of the book -> (price,weight).\n",
    "# Write a function optimal_book_list to retrieve the combination that allows you to spend all of your store credit while getting at least two book_list at the lowest weight.\n",
    "# Note: You should spend all your credit and getting at least 2 book_list, If no such condition is satisfied just return empty list.\n",
    "N = 18\n",
    "book_list = [(17,8), (9,4), (18,5), (11,9), (1,2), (13,7), (7,5), (3,6), (10,8)] # (price,weight)\n",
    "\n",
    "N = 20\n",
    "book_list = [[20,5],[18,10],[2,8],[6,3],[7,4],[5,3],[2,4]]\n",
    "\n",
    "def max_combination_length(book_list, credit):\n",
    "    max_indices_length = 1\n",
    "    book_list = sorted(book_list, key=lambda x: x[0])  # Sort by price\n",
    "    used_credit = 0\n",
    "\n",
    "    for book in book_list:\n",
    "        price = book[0] \n",
    "        used_credit += price\n",
    "        \n",
    "        if used_credit <= credit:\n",
    "            max_indices_length += 1\n",
    "        else:\n",
    "            break\n",
    "    \n",
    "    return max_indices_length\n",
    "\n",
    "def next_combination(indices, n):\n",
    "\n",
    "    for i in reversed(range(len(indices))):\n",
    "        if indices[i] < n + i - len(indices):\n",
    "            break\n",
    "    else:\n",
    "        return None\n",
    "    indices[i] += 1\n",
    "\n",
    "    for j in range(i+1, len(indices)):\n",
    "        indices[j] = indices[j-1] + 1\n",
    "    return indices\n",
    "\n",
    "def book_combinations(book_list, N):\n",
    "    min_indices_length = 2 #Based on the question \n",
    "    max_indices_length = max_combination_length(book_list, credit=N)\n",
    "    optimal_book_list_list = []\n",
    "    lightest_total_book_list = 999999999\n",
    "\n",
    "    for num_book_list_combination in range(min_indices_length, max_indices_length):\n",
    "        indices = list(range(num_book_list_combination))\n",
    "        num_book_list = len(book_list)\n",
    "        \n",
    "        while indices:\n",
    "\n",
    "            total_price = sum(book_list[i][0] for i in indices)\n",
    "            \n",
    "            if total_price == N:\n",
    "                total_weight = sum(book_list[i][1] for i in indices)\n",
    "\n",
    "                if total_weight <= lightest_total_book_list:\n",
    "                    optimal_book_list_list = [book_list[i] for i in indices]\n",
    "                    lightest_total_book_list = total_weight\n",
    "\n",
    "            indices = next_combination(indices, n = num_book_list)\n",
    "    \n",
    "    return optimal_book_list_list\n",
    "    \n",
    "book_combinations(book_list, N)\n",
    "\n"
   ]
  },
  {
   "cell_type": "code",
   "execution_count": 60,
   "metadata": {},
   "outputs": [
    {
     "data": {
      "text/plain": [
       "[{'name': 'Bob', 'location': (5, 2, 10)},\n",
       " {'name': 'David', 'location': (2, 3, 5)},\n",
       " {'name': 'Mary', 'location': (19, 3, 4)},\n",
       " {'name': 'Skyler', 'location': (3, 5, 1)}]"
      ]
     },
     "execution_count": 60,
     "metadata": {},
     "output_type": "execute_result"
    }
   ],
   "source": [
    "friends = [\n",
    "    {'name': 'Bob', \"location\": (5,2,10)},\n",
    "    {'name': 'David', \"location\": (2,3,5)},\n",
    "    {'name': 'Mary', \"location\": (19,3,4)},\n",
    "    {'name': 'Skyler', \"location\": (3,5,1)},\n",
    "]\n",
    "\n",
    "def distance(x,y):\n",
    "   distance = ((x[0] - y[0]) ** 2 + (x[1] - y[1]) ** 2 + (x[2] - y[2]) ** 2 ) ** 0.5\n",
    "   return distance\n",
    "\n",
    "def pick_host(friends):\n",
    "    n = len(friends)\n",
    "    min_distance = float('inf')\n",
    "    best_host = ''\n",
    "    for i in range(n):\n",
    "        total_distance = 0\n",
    "        for j in range(n):\n",
    "            dist = distance(friends[i][\"location\"], friends[j][\"location\"])\n",
    "            total_distance += dist\n",
    "        if min_distance > total_distance:\n",
    "            min_distance = total_distance\n",
    "            best_host = friends[i]['name']\n",
    "    \n",
    "    return best_host\n"
   ]
  },
  {
   "cell_type": "code",
   "execution_count": 7,
   "metadata": {},
   "outputs": [
    {
     "data": {
      "text/plain": [
       "[(1, 4), (2, 4), (3, 4), (4, 4), (5, 4), (6, 0)]"
      ]
     },
     "execution_count": 7,
     "metadata": {},
     "output_type": "execute_result"
    }
   ],
   "source": [
    "# You are given a list of lists where each group represents a friendship.\n",
    "friends = [[1,2,3],[2,3],[2,3,4],[4,5],[4,2], [6], [1,2,4,5,3]]\n",
    "def how_many_friends(test_input):\n",
    "    friends = test_input\n",
    "    friend_counts = {} \n",
    "    relations_set = set()\n",
    "    for rel in friends:\n",
    "        if len(rel) == 1:\n",
    "            if rel[0] not in friend_counts:\n",
    "                friend_counts[rel[0]] = 0\n",
    "        else:\n",
    "            for person in rel:\n",
    "                if person not in friend_counts:\n",
    "                    friend_counts[person] = 0 \n",
    "                \n",
    "                for other_person in rel:\n",
    "                    if other_person != person:\n",
    "                        if other_person not in friend_counts:\n",
    "                            friend_counts[other_person] = 0 \n",
    "                        relation = tuple(sorted((person, other_person)))\n",
    "                        if relation not in relations_set:\n",
    "                            relations_set.add(relation)\n",
    "                            friend_counts[person] += 1\n",
    "                            friend_counts[other_person] += 1\n",
    "    result =[(person, num_friends) for person,num_friends in friend_counts.items()]\n",
    "    return result\n",
    "how_many_friends(friends)\n",
    "                        "
   ]
  },
  {
   "cell_type": "code",
   "execution_count": 34,
   "metadata": {},
   "outputs": [
    {
     "data": {
      "text/plain": [
       "{1: ['i', 'love', 'the', 'best', 'red', 'violets', 'blue'],\n",
       " 3: ['roses', 'are']}"
      ]
     },
     "execution_count": 34,
     "metadata": {},
     "output_type": "execute_result"
    }
   ],
   "source": [
    "sentences = [\"I love roses\",\"Roses are the best\",\"Roses are red violets are blue\"]\n",
    "def word_frequency(sentences):\n",
    "    words_dict = {}\n",
    "    freq_list = {}\n",
    "\n",
    "    for sentence in sentences:\n",
    "        sentence = sentence.lower().split()\n",
    "        for word in sentence:\n",
    "            if word not in words_dict:\n",
    "                words_dict[word] = 1\n",
    "            else:\n",
    "                words_dict[word] += 1\n",
    "\n",
    "    for key, value in words_dict.items():\n",
    "        if value not in freq_list:\n",
    "            freq_list[value]=[]\n",
    "        freq_list[value].append(key)\n",
    "    return freq_list\n",
    "\n",
    "\n",
    "            \n",
    "word_frequency(sentences)"
   ]
  },
  {
   "cell_type": "code",
   "execution_count": 50,
   "metadata": {},
   "outputs": [
    {
     "data": {
      "text/plain": [
       "False"
      ]
     },
     "execution_count": 50,
     "metadata": {},
     "output_type": "execute_result"
    }
   ],
   "source": [
    "string1 = \"sbcdefghijklmnopqrstuvwxyzABCDEFGHIJKLMNOPQRSTUVWXYZ\"\n",
    "string2 = \"ZYXWVUTSRQPONMLKJIHGFEDCBAzyxwvutsrqponmlkjihgfedcba\"\n",
    "def str_map(string1, string2):\n",
    "    bijection = False\n",
    "    map_dict = {}\n",
    "\n",
    "    if len(string1) != len(string2):\n",
    "        return bijection\n",
    "    \n",
    "    for i in range(len(string1)):\n",
    "        if (string1[i] not in map_dict) and (string2[i] not in map_dict):\n",
    "            map_dict[string1[i]] = string2[i]\n",
    "            map_dict[string2[i]] = string1[i] \n",
    "        if (string1[i] not in map_dict) or (string2[i] not in map_dict):\n",
    "            break\n",
    "        if string1[i] != map_dict[string2[i]]:\n",
    "            break\n",
    "    else:\n",
    "        bijection = True\n",
    "\n",
    "    return bijection\n",
    "    \n",
    "str_map(\"abb\", \"xyz\")"
   ]
  },
  {
   "cell_type": "code",
   "execution_count": 79,
   "metadata": {},
   "outputs": [],
   "source": [
    "strings = [\"prefix\", \"prefixation\", \"prefixes\", \"prefixed\"]\n"
   ]
  },
  {
   "cell_type": "code",
   "execution_count": 109,
   "metadata": {},
   "outputs": [
    {
     "data": {
      "text/plain": [
       "'inters'"
      ]
     },
     "execution_count": 109,
     "metadata": {},
     "output_type": "execute_result"
    }
   ],
   "source": [
    "strings = [\"prefix\", \"prefixation\", \"prefixes\", \"prefixed\", \"pre\", \"\"]\n",
    "strings = [\"interspecies\", \"interstellar\", \"interstate\"]\n",
    "def common_prefix(strings):\n",
    "\n",
    "    if len(strings) ==0 :\n",
    "        return ''\n",
    "\n",
    "    shortest_string = min(strings, key=lambda string:len(string))\n",
    "    longest_prefix = shortest_string\n",
    "\n",
    "    for i in range(len(shortest_string)):\n",
    "        for string in strings:\n",
    "            if longest_prefix not in string:\n",
    "                break\n",
    "        else:\n",
    "            return longest_prefix\n",
    "        \n",
    "        longest_prefix = longest_prefix[:(len(shortest_string)-i)]\n",
    "    else:\n",
    "        return ''\n",
    "    \n",
    "    return longest_prefix\n",
    "\n",
    "common_prefix(strings)"
   ]
  },
  {
   "cell_type": "code",
   "execution_count": 115,
   "metadata": {},
   "outputs": [
    {
     "name": "stdout",
     "output_type": "stream",
     "text": [
      "Passed Input: [] ,Expected: , Got: \n",
      "\n",
      "Passed Input: ['flower'] ,Expected: flower, Got: flower\n",
      "\n",
      "Passed Input: ['dog', 'racecar', 'car'] ,Expected: , Got: \n",
      "\n",
      "Passed Input: ['a', 'a', 'b'] ,Expected: , Got: \n",
      "\n",
      "Passed Input: ['test', 'test', 'test'] ,Expected: test, Got: test\n",
      "\n",
      "Passed Input: ['interspecies', 'interstellar', 'interstate'] ,Expected: inters, Got: inters\n",
      "\n",
      "Passed Input: ['Flow', 'flow', 'flight'] ,Expected: , Got: \n",
      "\n",
      "Passed Input: ['a', 'ab', 'abc'] ,Expected: a, Got: a\n",
      "\n",
      "Passed Input: ['prefix', 'prefixation', 'prefixes', 'prefixed'] ,Expected: prefix, Got: prefix\n",
      "\n",
      "Passed Input: ['apple', 'banana', 'cherry'] ,Expected: , Got: \n",
      "\n"
     ]
    }
   ],
   "source": [
    "test_cases = [\n",
    "    ([], \"\"),  # Case 1: Empty List\n",
    "    ([\"flower\"], \"flower\"),  # Case 2: Single String\n",
    "    ([\"dog\", \"racecar\", \"car\"], \"\"),  # Case 3: No Common Prefix\n",
    "    ([\"a\", \"a\", \"b\"], \"\"),  # Case 4: One Character Each, No Common Prefix\n",
    "    ([\"test\", \"test\", \"test\"], \"test\"),  # Case 5: Identical Strings\n",
    "    ([\"interspecies\", \"interstellar\", \"interstate\"], \"inters\"),  # Case 6: Long Prefix\n",
    "    ([\"Flow\", \"flow\", \"flight\"], \"\"),  # Case 7: Case Sensitivity\n",
    "    ([\"a\", \"ab\", \"abc\"], \"a\"),  # Case 8: Very Short Strings\n",
    "    ([\"prefix\", \"prefixation\", \"prefixes\", \"prefixed\"], \"prefix\"),  # Case 9: One String as Prefix\n",
    "    ([\"apple\", \"banana\", \"cherry\"], \"\"),  # Case 10: Mixed Length, No Prefix\n",
    "]\n",
    "\n",
    "for i, (input_data, expected) in enumerate(test_cases):\n",
    "    result = common_prefix(input_data)\n",
    "    print(f\"{'Passed' if result == expected else 'Failed'} Input: {input_data} ,Expected: {expected}, Got: {result}\\n\")\n",
    "  "
   ]
  },
  {
   "cell_type": "code",
   "execution_count": 139,
   "metadata": {},
   "outputs": [
    {
     "name": "stdout",
     "output_type": "stream",
     "text": [
      "prefix: interspecies\n",
      "string loop: interstellar\n",
      "removed last char prefix:  interspecie\n",
      "removed last char prefix:  interspeci\n",
      "removed last char prefix:  interspec\n",
      "removed last char prefix:  interspe\n",
      "removed last char prefix:  intersp\n",
      "removed last char prefix:  inters\n",
      "string loop: interstate\n",
      "string loop: inter\n",
      "removed last char prefix:  inter\n",
      "string loop: \n",
      "removed last char prefix:  inte\n",
      "removed last char prefix:  int\n",
      "removed last char prefix:  in\n",
      "removed last char prefix:  i\n",
      "removed last char prefix:  \n",
      "could find any match and breaking loop by returning empty prefix\n"
     ]
    },
    {
     "data": {
      "text/plain": [
       "''"
      ]
     },
     "execution_count": 139,
     "metadata": {},
     "output_type": "execute_result"
    }
   ],
   "source": [
    "strs = [\"interspecies\", \"interstellar\", \"interstate\", \"inter\", \"\"]\n",
    "def longest_common_prefix(strs):\n",
    "    if not strs:\n",
    "        return ''\n",
    "    prefix = strs[0]\n",
    "    print(\"prefix:\", prefix)\n",
    "\n",
    "    for string in strs[1:]:\n",
    "        print(\"string loop:\",string)\n",
    "        while string[:len(prefix)] != prefix:\n",
    "            prefix = prefix[:-1]\n",
    "            print(\"removed last char prefix: \", prefix)\n",
    "            if not prefix:\n",
    "                print(\"couldn't find any match and breaking loop by returning empty prefix\")\n",
    "                return ''\n",
    "    return prefix\n",
    "longest_common_prefix(strs)"
   ]
  },
  {
   "cell_type": "code",
   "execution_count": 2,
   "metadata": {},
   "outputs": [
    {
     "name": "stdout",
     "output_type": "stream",
     "text": [
      "Starting process 0\n",
      "  Attempt 1\n",
      "  Attempt 2\n",
      "  Attempt 3\n",
      "Starting process 1\n",
      "  Attempt 1\n",
      "  Attempt 2\n",
      "  Attempt 3\n",
      "Starting process 2\n",
      "  Attempt 1\n",
      "  Attempt 2\n",
      "  Condition met, stopping early.\n"
     ]
    }
   ],
   "source": [
    "attempts = 0\n",
    "max_attempts = 3\n",
    "\n",
    "for i in range(5):\n",
    "    print(f\"Starting process {i}\")\n",
    "    \n",
    "    while attempts < max_attempts:\n",
    "        attempts += 1\n",
    "        print(f\"  Attempt {attempts}\")\n",
    "        if i == 2 and attempts == 2:\n",
    "            print(\"  Condition met, stopping early.\")\n",
    "            break  # Breaks out of the while loop\n",
    "    \n",
    "    if i == 2:\n",
    "        break  # Breaks out of the for loop\n",
    "\n",
    "    attempts = 0  # Reset attempts for the next iteration\n"
   ]
  },
  {
   "cell_type": "code",
   "execution_count": 8,
   "metadata": {},
   "outputs": [
    {
     "data": {
      "text/plain": [
       "''"
      ]
     },
     "execution_count": 8,
     "metadata": {},
     "output_type": "execute_result"
    }
   ],
   "source": [
    "strs = [\"interspecies\", \"interstellar\", \"interstate\", \"inter\", \"\"]\n",
    "def longest_common_prefix(strs):\n",
    "    if not strs:\n",
    "        return ''\n",
    "    \n",
    "    prefix = strs[0]\n",
    "\n",
    "    for string in strs[1:]:\n",
    "        while string[:len(prefix)] !=  prefix:\n",
    "            prefix = prefix[:-1]\n",
    "            if not prefix:\n",
    "                return ''\n",
    "\n",
    "    return prefix\n",
    "longest_common_prefix(strs)"
   ]
  },
  {
   "cell_type": "code",
   "execution_count": 14,
   "metadata": {},
   "outputs": [
    {
     "data": {
      "text/plain": [
       "[]"
      ]
     },
     "execution_count": 14,
     "metadata": {},
     "output_type": "execute_result"
    }
   ],
   "source": [
    "nums = [1, 2, 3, 1, 2, 3, 4, -3, -3, -4]\n",
    "nums = []\n",
    "def find_duplicates(nums):\n",
    "    nums_set = set()\n",
    "    duplicates_set = set()\n",
    "    for num in nums:\n",
    "        if num not in nums_set:\n",
    "            nums_set.add(num)\n",
    "        else:\n",
    "            duplicates_set.add(num)\n",
    "    return list(duplicates_set)\n",
    "find_duplicates(nums)"
   ]
  },
  {
   "cell_type": "code",
   "execution_count": 36,
   "metadata": {},
   "outputs": [
    {
     "data": {
      "text/plain": [
       "['This    is    an', 'example  of text', 'justification.  ']"
      ]
     },
     "execution_count": 36,
     "metadata": {},
     "output_type": "execute_result"
    }
   ],
   "source": [
    "words = [\"This\", \"is\", \"an\", \"example\", \"of\", \"text\", \"justification.\"]\n",
    "max_width = 16\n",
    "\n",
    "def sentence_spacing(word_list, max_width):\n",
    "    sentence_str = ''\n",
    "    sentence_len = sum(len(word) for word in word_list)  # Total length of all words without spaces\n",
    "\n",
    "    if len(word_list) == 1:\n",
    "        sentence_str = word_list[0] + \" \" * (max_width - sentence_len)\n",
    "    else:\n",
    "        n = (max_width - sentence_len) // (len(word_list) - 1)  # Base number of spaces between words\n",
    "        res = (max_width - sentence_len) % (len(word_list) - 1)  # Extra spaces to distribute\n",
    "\n",
    "        for i, word in enumerate(word_list[:-1]):\n",
    "            sentence_str += word\n",
    "            sentence_str += \" \" * (n + 1) if i < res else \" \" * n\n",
    "\n",
    "        sentence_str += word_list[-1]  # Add the last word without extra spaces at the end\n",
    "\n",
    "    return sentence_str\n",
    "\n",
    "\n",
    "def justify(words, max_width):\n",
    "\n",
    "    sentence_str = str()\n",
    "    sentence_len = 0\n",
    "    sentences = []\n",
    "    word_list =[]\n",
    "    i = 0\n",
    "\n",
    "    while(i < len(words)):\n",
    "        while max_width > sentence_len:\n",
    "\n",
    "            sentence_len += len(words[i]) # add word length without space for the next word in sentence \n",
    "            \n",
    "            if max_width == sentence_len:\n",
    "                word_list.append(words[i])\n",
    "                i += 1 \n",
    "                break \n",
    "            \n",
    "            elif max_width < sentence_len:\n",
    "                break\n",
    "\n",
    "            else: # max_width > sentence_len\n",
    "                word_list.append(words[i])\n",
    "                sentence_len += 1 # adding space for the next word\n",
    "                i += 1\n",
    "                # we will not able to add new word and we just add a space to end of sentence (Following Spacing Rule) \n",
    "                if max_width == sentence_len + 1:\n",
    "\n",
    "                    break\n",
    "        sentence_str = sentence_spacing(word_list, max_width)   \n",
    "        sentences.append(sentence_str)    \n",
    "        sentence_len = 0\n",
    "        word_list = []\n",
    "    return sentences\n",
    "\n",
    "\n",
    "justify(words, max_width)"
   ]
  },
  {
   "cell_type": "code",
   "execution_count": 36,
   "metadata": {},
   "outputs": [
    {
     "data": {
      "text/plain": [
       "'a'"
      ]
     },
     "execution_count": 36,
     "metadata": {},
     "output_type": "execute_result"
    }
   ],
   "source": [
    "strings = 'aabbaaaccbbbaacccc'\n",
    "def max_repeating(s):\n",
    "    max_char = s[0]  # The character with the longest repetition\n",
    "    max_count = 1     # The length of the longest repetition\n",
    "    current_char = s[0]  # The current character being examined\n",
    "    current_count = 1     # The length of the current repetition\n",
    "\n",
    "    for i in range(1, len(s)):\n",
    "        if s[i] == s[i - 1]:  # If the current character is the same as the previous one\n",
    "            current_count += 1\n",
    "        else:\n",
    "            if current_count > max_count:  # Check if the current repetition is the longest\n",
    "                max_count = current_count\n",
    "                max_char = current_char\n",
    "            current_char = s[i]  # Reset the current character and count\n",
    "            current_count = 1\n",
    "\n",
    "    # Final check in case the longest repetition is at the end of the string\n",
    "    if current_count > max_count:\n",
    "        max_char = current_char\n",
    "\n",
    "    return max_char\n",
    "\n",
    "\n",
    "max_repeating(str)  # Output should be 'a'\n"
   ]
  },
  {
   "cell_type": "code",
   "execution_count": 70,
   "metadata": {},
   "outputs": [
    {
     "data": {
      "text/plain": [
       "18"
      ]
     },
     "execution_count": 70,
     "metadata": {},
     "output_type": "execute_result"
    }
   ],
   "source": [
    "levels = [3, 0, 2, 0, 4, 3, 4, 6, 0, 2 ,6]\n",
    "trapped= [0, 3, 1, 3, 0, 1, 0, 0, 6, 4, 0] \n",
    "\n",
    "def total_rainwater(max_list):\n",
    "    total_water = 0\n",
    "    for level in max_list:\n",
    "        shorter_neighbor = min(level[1])\n",
    "        trap_water= shorter_neighbor - level[0]\n",
    "        total_water += trap_water\n",
    "    return total_water\n",
    "\n",
    "def trapped_rainwater(levels):\n",
    "    max_list = []\n",
    "    max_left = levels[0]\n",
    "    max_right = levels[-1]\n",
    "    max_value = max(levels)\n",
    "    max_index = levels.index(max_value)\n",
    "    # level -->  [level, (left_max, right_max)]\n",
    "    # the first and last levels always have a zero contribution amount of water can\n",
    "    # be trapped. just we need to to initilize max_left and max_right \n",
    "\n",
    "    # left MAX\n",
    "    # from first level to the first maximum index: \n",
    "    for i in range(1, max_index):\n",
    "        if max_left < levels[i]: # local maxima\n",
    "            max_left = levels[i]\n",
    "        else:\n",
    "            max_list.append([levels[i], (max_left, max_value)])\n",
    "    # right MAX\n",
    "    # from first maximum index level to the ene before last one:         \n",
    "    for i in reversed(range(max_index +1, len(levels))):\n",
    "        \n",
    "        if max_right < levels[i]:# local maxima\n",
    "            max_right = levels[i]\n",
    "        else:\n",
    "            max_list.append([levels[i], (max_value, max_right)])\n",
    "    \n",
    "    total = total_rainwater(max_list)\n",
    "    return total\n",
    "\n",
    "trapped_rainwater(terrainLevels=levels)\n"
   ]
  },
  {
   "cell_type": "code",
   "execution_count": 7,
   "metadata": {},
   "outputs": [
    {
     "data": {
      "text/plain": [
       "['apple', 'banana', 'cat', 'football', 'zoo']"
      ]
     },
     "execution_count": 7,
     "metadata": {},
     "output_type": "execute_result"
    }
   ],
   "source": [
    "array = [\"apple\", \"cat\", \"banana\", \"zoo\", \"football\"]\n",
    "#array = [3, 1, 4, 1, 5, 9, 2, 6, 5, 3, 5]\n",
    "def merge_sort(arr):\n",
    "    if len(arr) <= 1:\n",
    "        return arr\n",
    "    \n",
    "    mid_point = len(arr) //2\n",
    "    left_half = arr[:mid_point]\n",
    "    right_half = arr[mid_point:]\n",
    "\n",
    "    # recursively divide the list till reach lenth of 0 or 1 then these two small list (return arr)\n",
    "    # in the recursive part are converting to left_sorted and right_sorted and here the first merge function is \n",
    "    # calling \n",
    "    left_sorted = merge_sort(left_half)\n",
    "    right_sorted = merge_sort(right_half)\n",
    "    return merge(left_sorted, right_sorted)\n",
    "def merge(left, right):\n",
    "    sorted_list = []\n",
    "    left_index, right_index = 0, 0\n",
    "\n",
    "    while left_index < len(left) and right_index < len(right):\n",
    "\n",
    "        if left[left_index] < right[right_index]:\n",
    "            sorted_list.append(left[left_index])\n",
    "            left_index += 1\n",
    "        else:\n",
    "            sorted_list.append(right[right_index])\n",
    "            right_index +=1\n",
    "    \n",
    "    sorted_list.extend(left[left_index:])\n",
    "    sorted_list.extend(right[right_index:])\n",
    "\n",
    "\n",
    "    return sorted_list \n",
    "\n",
    "merge_sort(array)"
   ]
  },
  {
   "cell_type": "code",
   "execution_count": 8,
   "metadata": {},
   "outputs": [],
   "source": [
    "def sorting(array):\n",
    "    arr= array\n",
    "    if len(arr) <= 1:\n",
    "        return arr\n",
    "    \n",
    "    mid_point = len(arr) //2\n",
    "    left_half = arr[:mid_point]\n",
    "    right_half = arr[mid_point:]\n",
    "\n",
    "    left_sorted = merge_sort(left_half)\n",
    "    right_sorted = merge_sort(right_half)\n",
    "    return merge(left_sorted, right_sorted)    \n",
    "def merge(left, right):\n",
    "    sorted_list = []\n",
    "    left_index, right_index = 0, 0\n",
    "\n",
    "    while left_index < len(left) and right_index < len(right):\n",
    "\n",
    "        if left[left_index] < right[right_index]:\n",
    "            sorted_list.append(left[left_index])\n",
    "            left_index += 1\n",
    "        else:\n",
    "            sorted_list.append(right[right_index])\n",
    "            right_index +=1\n",
    "    \n",
    "    sorted_list.extend(left[left_index:])\n",
    "    sorted_list.extend(right[right_index:])\n",
    "\n",
    "\n",
    "    return sorted_list \n"
   ]
  },
  {
   "cell_type": "code",
   "execution_count": 5,
   "metadata": {},
   "outputs": [
    {
     "data": {
      "text/plain": [
       "[0, 1, 1, 2, 2, 2, 3, 3, 4, 5, 5, 6, 7, 8, 8, 9, 10, 12]"
      ]
     },
     "execution_count": 5,
     "metadata": {},
     "output_type": "execute_result"
    }
   ],
   "source": [
    "lists = [ [1,2,3,4,5,6], [2,5,7,8], [3,9,10,12], [0,1,2,8] ]\n",
    "\n",
    "\n",
    "def merge_left_right_list(left_list, right_list):\n",
    "    i_left = 0\n",
    "    i_right = 0\n",
    "    a_list = []\n",
    "    while (i_left < len(left_list)) and (i_right < len(right_list)):\n",
    "        if left_list[i_left] < right_list[i_right]:\n",
    "            a_list.append(left_list[i_left])\n",
    "            i_left += 1\n",
    "        else:\n",
    "            a_list.append(right_list[i_right])\n",
    "            i_right +=1\n",
    "\n",
    "    a_list.extend(left_list[i_left:])\n",
    "    a_list.extend(right_list[i_right:])\n",
    "    return a_list\n",
    "\n",
    "def sort_lists(lists):\n",
    "\n",
    "    if len(lists) == 0:\n",
    "        return []   \n",
    "    elif len(lists) == 1:\n",
    "        return lists[0]\n",
    "\n",
    "    while(len(lists)>1):\n",
    "        merging_list = []\n",
    "        i = 0\n",
    "        \n",
    "        while(len(lists) > i):\n",
    "            if len(lists) > i+1:\n",
    "                merged = merge_left_right_list(lists[i], lists[i+1])\n",
    "                merging_list.append(merged)\n",
    "            else:\n",
    "                merging_list.append(lists[i])\n",
    "            i += 2\n",
    "   \n",
    "        lists = merging_list\n",
    "    return lists[0]\n",
    "\n",
    "\n",
    "sort_lists(lists)"
   ]
  },
  {
   "cell_type": "code",
   "execution_count": 15,
   "metadata": {},
   "outputs": [
    {
     "data": {
      "text/plain": [
       "[20, 19, 18, 16, 10, 6, 3]"
      ]
     },
     "execution_count": 15,
     "metadata": {},
     "output_type": "execute_result"
    }
   ],
   "source": [
    "arr = [20,17,19,18,12,16,10,4,6,3]\n",
    "#arr = [25,30,21,22,14,10,5,26]\n",
    "\n",
    "def decreasing_values(arr):\n",
    "    max = arr[-1]\n",
    "    lists = [arr[-1]]\n",
    "    for i in reversed(range(len(arr)-1)):\n",
    "        if arr[i] > max:\n",
    "            lists = [arr[i]] + lists\n",
    "            max = arr[i]\n",
    "\n",
    "    return lists\n",
    "\n",
    "decreasing_values(arr)\n"
   ]
  },
  {
   "cell_type": "code",
   "execution_count": 18,
   "metadata": {},
   "outputs": [
    {
     "data": {
      "text/plain": [
       "10"
      ]
     },
     "execution_count": 18,
     "metadata": {},
     "output_type": "execute_result"
    }
   ],
   "source": [
    "vehicles = [5, 6, 4, 2, 1]\n",
    "def range_vehicles(vehicles, start, end):\n",
    "    total_vehicles = 0\n",
    "    for car in range(start, end):\n",
    "        total_vehicles += vehicles[car]\n",
    "    return total_vehicles\n",
    "range_vehicles(vehicles, 1, 3)"
   ]
  },
  {
   "cell_type": "code",
   "execution_count": 20,
   "metadata": {},
   "outputs": [
    {
     "data": {
      "text/plain": [
       "10"
      ]
     },
     "execution_count": 20,
     "metadata": {},
     "output_type": "execute_result"
    }
   ],
   "source": [
    "vehicles = [5, 6, 4, 2, 1]\n",
    "def range_vehicles(vehicles, start, end):\n",
    "    if end > len(vehicles):\n",
    "        return []\n",
    "    if start < 0:\n",
    "        return []\n",
    "    if len(vehicles) < 2:\n",
    "        return []\n",
    "    return sum(vehicles[start:end])\n",
    "range_vehicles(vehicles, 1, 3)"
   ]
  },
  {
   "cell_type": "code",
   "execution_count": 24,
   "metadata": {},
   "outputs": [
    {
     "data": {
      "text/plain": [
       "[]"
      ]
     },
     "execution_count": 24,
     "metadata": {},
     "output_type": "execute_result"
    }
   ],
   "source": [
    "vehicles[4:3]"
   ]
  },
  {
   "cell_type": "code",
   "execution_count": 13,
   "metadata": {},
   "outputs": [
    {
     "data": {
      "text/plain": [
       "[1, 1, 2, 4]"
      ]
     },
     "execution_count": 13,
     "metadata": {},
     "output_type": "execute_result"
    }
   ],
   "source": [
    "\n",
    "\n"
   ]
  },
  {
   "cell_type": "code",
   "execution_count": null,
   "metadata": {},
   "outputs": [],
   "source": []
  }
 ],
 "metadata": {
  "kernelspec": {
   "display_name": "base",
   "language": "python",
   "name": "python3"
  },
  "language_info": {
   "codemirror_mode": {
    "name": "ipython",
    "version": 3
   },
   "file_extension": ".py",
   "mimetype": "text/x-python",
   "name": "python",
   "nbconvert_exporter": "python",
   "pygments_lexer": "ipython3",
   "version": "3.11.5"
  }
 },
 "nbformat": 4,
 "nbformat_minor": 2
}
