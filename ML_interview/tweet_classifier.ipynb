{
  "nbformat": 4,
  "nbformat_minor": 0,
  "metadata": {
    "colab": {
      "provenance": [],
      "authorship_tag": "ABX9TyOgfVk6bhNNoDCtFAcSnjQv",
      "include_colab_link": true
    },
    "kernelspec": {
      "name": "python3",
      "display_name": "Python 3"
    },
    "language_info": {
      "name": "python"
    }
  },
  "cells": [
    {
      "cell_type": "markdown",
      "metadata": {
        "id": "view-in-github",
        "colab_type": "text"
      },
      "source": [
        "<a href=\"https://colab.research.google.com/github/omid-sar/Interview-Preparation/blob/main/ML_interview/tweet_classifier.ipynb\" target=\"_parent\"><img src=\"https://colab.research.google.com/assets/colab-badge.svg\" alt=\"Open In Colab\"/></a>"
      ]
    },
    {
      "cell_type": "code",
      "execution_count": 3,
      "metadata": {
        "id": "XRFDuwxELLVA",
        "colab": {
          "base_uri": "https://localhost:8080/"
        },
        "outputId": "bd37081b-183f-44bf-fb9e-4ceed0cdb149"
      },
      "outputs": [
        {
          "output_type": "stream",
          "name": "stdout",
          "text": [
            "File downloaded and saved successfully\n"
          ]
        }
      ],
      "source": [
        "import requests\n",
        "\n",
        "url = \"https://raw.githubusercontent.com/omid-sar/Project_Data_Hub/main/twitter_toxic_final_balanced_dataset.csv\"\n",
        "response = requests.get(url)\n",
        "\n",
        "if response.status_code == 200:\n",
        "  with open(\"twitter_toxic.csv\", \"wb\") as file:\n",
        "    file.write(response.content)\n",
        "  print(\"File downloaded and saved successfully\")\n",
        "else:\n",
        "  print(f\"Failed to download file. Status code: {response.status_code}\")"
      ]
    },
    {
      "cell_type": "code",
      "source": [
        "import pandas as pd\n",
        "import numpy as np\n",
        "\n",
        "df = pd.read_csv(\"twitter_toxic.csv\")"
      ],
      "metadata": {
        "id": "KSX61WF6Ltr3"
      },
      "execution_count": 5,
      "outputs": []
    },
    {
      "cell_type": "code",
      "source": [],
      "metadata": {
        "id": "PpxhsElkQizX"
      },
      "execution_count": null,
      "outputs": []
    }
  ]
}